{
 "cells": [
  {
   "cell_type": "markdown",
   "metadata": {},
   "source": [
    "## Ensemble Learning \n",
    "Suppose you ask a complex question to thousands of random people, then aggregate their answers. In\n",
    "many cases you will find that this aggregated answer is better than an expert’s answer. This is called the\n",
    "wisdom of the crowd. Similarly, if you aggregate the predictions of a group of predictors (such as\n",
    "classifiers or regressors), you will often get better predictions than with the best individual predictor. A\n",
    "group of predictors is called an ensemble; thus, this technique is called Ensemble Learning, and an\n",
    "Ensemble Learning algorithm is called an Ensemble method."
   ]
  },
  {
   "cell_type": "code",
   "execution_count": null,
   "metadata": {
    "collapsed": true
   },
   "outputs": [],
   "source": []
  }
 ],
 "metadata": {
  "kernelspec": {
   "display_name": "Python 3",
   "language": "python",
   "name": "python3"
  },
  "language_info": {
   "codemirror_mode": {
    "name": "ipython",
    "version": 3
   },
   "file_extension": ".py",
   "mimetype": "text/x-python",
   "name": "python",
   "nbconvert_exporter": "python",
   "pygments_lexer": "ipython3",
   "version": "3.6.0"
  }
 },
 "nbformat": 4,
 "nbformat_minor": 2
}
