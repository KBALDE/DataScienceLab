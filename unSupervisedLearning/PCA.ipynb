{
 "cells": [
  {
   "cell_type": "markdown",
   "metadata": {},
   "source": [
    "## The Curse of Dimensionality\n",
    "\n",
    "From the book A Geron. Let's dive in what he is trying to explain\n",
    "\n",
    "Many Machine Learning problems involve thousands or even millions of features for each training\n",
    "instance. Not only does this make training extremely slow, it can also make it much harder to find a good\n",
    "solution, as we will see. This problem is often referred to as the curse of dimensionality.\n",
    "\n",
    "Yes, it speed up the training, but it also helps in data visualization. Ploting data in 2D instead.\n",
    "\n",
    "### Some tips\n",
    "Always start training with no dimension reduction. It may damage your training. since you are taking some might be relevant information out.\n",
    "\n",
    "All training instances actually lie within (or close to) a much lower-dimensional subspace of the\n",
    "high-dimensional space. To see this, we can **project** data points on two dim axes and see how well they are represented.\n",
    "\n",
    "### Three type of dimension reduction (most popular)\n",
    "PCA, Kernel PCA, and LLE\n",
    "\n",
    "#### PCA\n",
    "Principal Component Analysis (PCA) is by far the most popular dimensionality reduction algorithm.\n",
    "First it identifies the hyperplane that lies closest to the data, and then it projects the data onto it.\n",
    "In meaning that the variance of a given feature reprensent the information that it contient. The PCA method tends to minimize the loss of the variance by projecting original feature on their most closest hyperplane.\n",
    "\n",
    "there is a standard matrix\n",
    "factorization technique called Singular Value Decomposition (SVD) that can decompose the training set\n",
    "matrix X into the dot product of three matrices U · Σ · VT, where VT contains all the principal components\n",
    "that we are looking for."
   ]
  },
  {
   "cell_type": "code",
   "execution_count": 14,
   "metadata": {
    "collapsed": false
   },
   "outputs": [
    {
     "data": {
      "text/plain": [
       "array([[ 1.        , -0.04950348],\n",
       "       [-0.04950348,  1.        ]])"
      ]
     },
     "execution_count": 14,
     "metadata": {},
     "output_type": "execute_result"
    }
   ],
   "source": [
    "import numpy as np\n",
    "\n",
    "# let's create X\n",
    "X=np.random.randn(10,10)\n",
    "X_centered = X - X.mean(axis=0)                # let's center variables first\n",
    "U, s, V = np.linalg.svd(X_centered)            # Now we can use SVD to construct the correlation matrix\n",
    "c1 = V.T[:, 0] \n",
    "c2 = V.T[:, 1]\n",
    "np.corrcoef(c1,c2) # we can show that c1 and c2 are not correlated"
   ]
  },
  {
   "cell_type": "markdown",
   "metadata": {},
   "source": [
    "PCA assumes that the dataset is centered around the origin. As we will see, **Scikit-Learn**’s PCA classes take care of centering the data for you. However, if you implement PCA yourself (as in the preceding example), or if you use other libraries, don’t forget to **center** the data first.\n",
    "\n",
    "Here let's project the training set onto the plane defined by the first two principal components"
   ]
  },
  {
   "cell_type": "code",
   "execution_count": 31,
   "metadata": {
    "collapsed": false
   },
   "outputs": [],
   "source": [
    "W2 = V.T[:, :2]\n",
    "X2D = X_centered.dot(W2) "
   ]
  },
  {
   "cell_type": "code",
   "execution_count": 32,
   "metadata": {
    "collapsed": false
   },
   "outputs": [
    {
     "data": {
      "image/png": "[encoded data removed]",
      "text/plain": [
       "<matplotlib.figure.Figure at 0x127ea198>"
      ]
     },
     "metadata": {},
     "output_type": "display_data"
    }
   ],
   "source": [
    "import matplotlib.pyplot as plt\n",
    "plt.scatter(X2D[:,0], X2D[:,1])\n",
    "plt.title('Features on 2 PCA components')\n",
    "plt.ylabel('C1')\n",
    "plt.xlabel('C2')\n",
    "plt.savefig('PCA.png')\n",
    "plt.show()"
   ]
  },
  {
   "cell_type": "code",
   "execution_count": 46,
   "metadata": {
    "collapsed": false
   },
   "outputs": [
    {
     "data": {
      "text/plain": [
       "array([-1.46310855,  0.66029397,  1.27451354,  3.47272974, -0.75634412,\n",
       "       -1.13372295, -0.7501887 , -0.51423669,  1.47435236, -2.2642886 ])"
      ]
     },
     "execution_count": 46,
     "metadata": {},
     "output_type": "execute_result"
    }
   ],
   "source": [
    "X2D[:,0]"
   ]
  },
  {
   "cell_type": "markdown",
   "metadata": {},
   "source": [
    "#### Using Scikit-Learn\n",
    "Scikit-Learn’s PCA class implements PCA using **SVD** decomposition just like we did before. The\n",
    "following code applies PCA to reduce the dimensionality of the dataset down to two dimensions (note\n",
    "that it **automatically takes care of centering the data**)"
   ]
  },
  {
   "cell_type": "code",
   "execution_count": 47,
   "metadata": {
    "collapsed": false
   },
   "outputs": [],
   "source": [
    "from sklearn.decomposition import PCA\n",
    "pca = PCA(n_components = 3) # choose the number of component to keep\n",
    "#X2D0 = pca.fit_transform(X)\n",
    "# pca.components_.T[:, 0] # not working \n",
    "# print(pca.explained_variance_ratio_) # the explained variance ratios of the first two components of the 3D dataset"
   ]
  },
  {
   "cell_type": "markdown",
   "metadata": {},
   "source": [
    "The following code computes PCA without reducing dimensionality, then computes the minimum number\n",
    "of dimensions required to preserve 95% of the training set’s variance:"
   ]
  },
  {
   "cell_type": "code",
   "execution_count": 48,
   "metadata": {
    "collapsed": true
   },
   "outputs": [],
   "source": [
    "pca = PCA()\n",
    "pca.fit(X)\n",
    "cumsum = np.cumsum(pca.explained_variance_ratio_)\n",
    "d = np.argmax(cumsum >= 0.95) + 1"
   ]
  },
  {
   "cell_type": "markdown",
   "metadata": {},
   "source": [
    "You could then set n_components=d and run PCA again."
   ]
  },
  {
   "cell_type": "code",
   "execution_count": 51,
   "metadata": {
    "collapsed": true
   },
   "outputs": [],
   "source": [
    "pca = PCA(n_components=0.95)\n",
    "X_reduced = pca.fit_transform(X)"
   ]
  },
  {
   "cell_type": "code",
   "execution_count": null,
   "metadata": {
    "collapsed": true
   },
   "outputs": [],
   "source": []
  }
 ],
 "metadata": {
  "kernelspec": {
   "display_name": "Python 3",
   "language": "python",
   "name": "python3"
  },
  "language_info": {
   "codemirror_mode": {
    "name": "ipython",
    "version": 3
   },
   "file_extension": ".py",
   "mimetype": "text/x-python",
   "name": "python",
   "nbconvert_exporter": "python",
   "pygments_lexer": "ipython3",
   "version": "3.6.0"
  }
 },
 "nbformat": 4,
 "nbformat_minor": 2
}
